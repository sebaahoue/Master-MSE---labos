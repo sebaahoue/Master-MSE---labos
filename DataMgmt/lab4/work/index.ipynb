{
 "cells": [
  {
   "cell_type": "markdown",
   "id": "712d787b",
   "metadata": {},
   "source": [
    "### Imports"
   ]
  },
  {
   "cell_type": "code",
   "execution_count": 6,
   "id": "484a38ec",
   "metadata": {},
   "outputs": [],
   "source": [
    "import pandas as pd\n",
    "import sqlite3\n",
    "import matplotlib.pyplot as plt\n",
    "import math"
   ]
  },
  {
   "cell_type": "markdown",
   "id": "2b2679a4",
   "metadata": {},
   "source": [
    "### Constants"
   ]
  },
  {
   "cell_type": "code",
   "execution_count": 7,
   "id": "f72014b1",
   "metadata": {},
   "outputs": [],
   "source": [
    "# DataFrame columns\n",
    "column_names = ['Order ID', 'Product', 'Quantity Ordered', 'Price Each', 'Order Date', 'Street Address', 'City', 'State']\n",
    "\n",
    "# Files\n",
    "data_folder = \"data/\"\n",
    "shop1_file = data_folder + 'Shop1.csv'\n",
    "shop2_file = data_folder + 'Shop2.xlsx'\n",
    "shop3_file = data_folder + 'Shop3.json'\n",
    "shop4_file = data_folder + 'Shop4.xml'\n",
    "shop5_file = data_folder + 'Shop5.parquet'\n",
    "shop6_file = data_folder + 'Shop6.db'"
   ]
  },
  {
   "cell_type": "markdown",
   "id": "fe08e130",
   "metadata": {},
   "source": [
    "### Pre processing"
   ]
  },
  {
   "cell_type": "markdown",
   "id": "6bc0862f",
   "metadata": {},
   "source": [
    "#### 2.1.1 Shop 1 (CSV)"
   ]
  },
  {
   "cell_type": "code",
   "execution_count": null,
   "id": "8caa2652",
   "metadata": {},
   "outputs": [],
   "source": [
    "df_shop1 = pd.read_csv(shop1_file)\n",
    "df_shop1"
   ]
  },
  {
   "cell_type": "markdown",
   "id": "4c8cca3e",
   "metadata": {},
   "source": [
    "#### 2.1.2 Shop 2 (Excel)"
   ]
  },
  {
   "cell_type": "code",
   "execution_count": null,
   "id": "7de5dbaa",
   "metadata": {},
   "outputs": [],
   "source": [
    "df_shop2 = pd.read_excel(shop2_file)\n",
    "df_shop2"
   ]
  },
  {
   "cell_type": "markdown",
   "id": "eda65f9d",
   "metadata": {},
   "source": [
    "#### 2.1.3 Shop 3 (JSON)"
   ]
  },
  {
   "cell_type": "code",
   "execution_count": null,
   "id": "82f5eac7",
   "metadata": {},
   "outputs": [],
   "source": [
    "df_shop3 = pd.read_json(shop3_file, orient='split')\n",
    "df_shop3"
   ]
  },
  {
   "cell_type": "markdown",
   "id": "e6efae5c",
   "metadata": {},
   "source": [
    "#### 2.1.4 Shop 4 (XML)"
   ]
  },
  {
   "cell_type": "code",
   "execution_count": null,
   "id": "c2be1b85",
   "metadata": {},
   "outputs": [],
   "source": [
    "df_shop4 = pd.read_xml(shop4_file)\n",
    "display(df_shop4)"
   ]
  },
  {
   "cell_type": "markdown",
   "id": "45382a95",
   "metadata": {},
   "source": [
    "#### 2.1.5 Shop 5 (Parquet)"
   ]
  },
  {
   "cell_type": "code",
   "execution_count": null,
   "id": "aba3d921",
   "metadata": {},
   "outputs": [],
   "source": [
    "df_shop5 = pd.read_parquet(shop5_file)\n",
    "df_shop5"
   ]
  },
  {
   "cell_type": "markdown",
   "id": "638e6044",
   "metadata": {},
   "source": [
    "#### 2.1.6 Shop 6 (SQLite)"
   ]
  },
  {
   "cell_type": "code",
   "execution_count": null,
   "id": "ca286f9c",
   "metadata": {},
   "outputs": [],
   "source": [
    "cnx = sqlite3.connect(shop6_file)\n",
    "df_shop6 = pd.read_sql_query(\"SELECT * FROM sales\", cnx)\n",
    "df_shop6"
   ]
  },
  {
   "cell_type": "markdown",
   "id": "047b91e9",
   "metadata": {},
   "source": [
    "### Data Analysis"
   ]
  },
  {
   "cell_type": "markdown",
   "id": "5bd825a6",
   "metadata": {},
   "source": [
    "#### 2.2.1 Sales vs Shop"
   ]
  },
  {
   "cell_type": "code",
   "execution_count": null,
   "id": "d7579159",
   "metadata": {},
   "outputs": [],
   "source": [
    "shops = ['Shop 1', 'Shop 2', 'Shop 3', 'Shop 4', 'Shop 5', 'Shop 6']\n",
    "sales = [200, 150, 100, 170, 220, 50]\n",
    "\n",
    "plt.bar(shops, sales)\n",
    "plt.xticks(shops, rotation=\"vertical\")\n",
    "plt.ticklabel_format(style='plain', axis='y')\n",
    "plt.title('Sales vs Shop', color='black')\n",
    "plt.ylabel('Sales ($)')\n",
    "plt.xlabel('Shop')\n",
    "plt.show()"
   ]
  },
  {
   "cell_type": "markdown",
   "id": "7abb1f31",
   "metadata": {},
   "source": [
    "#### 2.2.2 Sales vs Month"
   ]
  },
  {
   "cell_type": "code",
   "execution_count": null,
   "id": "ac7bb587",
   "metadata": {},
   "outputs": [],
   "source": []
  },
  {
   "cell_type": "markdown",
   "id": "5d2dce38",
   "metadata": {},
   "source": [
    "#### 2.2.3 Sales vs City"
   ]
  },
  {
   "cell_type": "code",
   "execution_count": null,
   "id": "ac12433d",
   "metadata": {},
   "outputs": [],
   "source": []
  },
  {
   "cell_type": "markdown",
   "id": "e8ede336",
   "metadata": {},
   "source": [
    "#### 2.2.4 Number of Orders vs Hour"
   ]
  },
  {
   "cell_type": "code",
   "execution_count": null,
   "id": "c66c537a",
   "metadata": {},
   "outputs": [],
   "source": []
  },
  {
   "cell_type": "markdown",
   "id": "0f088c60",
   "metadata": {},
   "source": [
    "#### 2.2.5 Products sold together"
   ]
  },
  {
   "cell_type": "code",
   "execution_count": null,
   "id": "92737968",
   "metadata": {},
   "outputs": [],
   "source": []
  }
 ],
 "metadata": {
  "kernelspec": {
   "display_name": "Python 3 (ipykernel)",
   "language": "python",
   "name": "python3"
  },
  "language_info": {
   "codemirror_mode": {
    "name": "ipython",
    "version": 3
   },
   "file_extension": ".py",
   "mimetype": "text/x-python",
   "name": "python",
   "nbconvert_exporter": "python",
   "pygments_lexer": "ipython3",
   "version": "3.7.4"
  }
 },
 "nbformat": 4,
 "nbformat_minor": 5
}
